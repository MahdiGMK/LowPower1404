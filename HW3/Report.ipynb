{
 "cells": [
  {
   "cell_type": "markdown",
   "metadata": {},
   "source": [
    "<div dir='rtl'>\n",
    "\n",
    "# مقایسه روش های BusInverting و فشرده سازی\n",
    "مهدی بهرامیان 401171593\n",
    "\n",
    "برای مقایسه این روش ها کافیست توابع مورد نیازمان را برای \n",
    "شبیهسازی BusInverting پیاده کنیم و \n",
    "به آن داده های فایل را به صورت خام و فشرده شده توسط zlib \n",
    "بدهیم و در هر ۴ حالت مقایسه کنیم.\n",
    "برای این آزمون یک فایل data فشرده نشده را در نظر گرفتیم که \n",
    "کتابخانه zlib موثر باشد.\n",
    "\n",
    "</div>"
   ]
  },
  {
   "cell_type": "code",
   "execution_count": null,
   "metadata": {},
   "outputs": [
    {
     "name": "stdout",
     "output_type": "stream",
     "text": [
      "Total Bit Flips :\n",
      "RawData + Normal BUS(8) :  0.0 %\n",
      "RawData + BUS(8) Inverting :  32.149226050360234 %\n",
      "Compressed + Normal BUS(8) :  184.14110429447854 %\n",
      "Compressed + BUS(8) Inverting :  279.1649611133852 %\n"
     ]
    }
   ],
   "source": [
    "import zlib\n",
    "import BI, Activity, Zip\n",
    "def readFile(addr: str):\n",
    "    with open(addr, 'rb') as file:\n",
    "        return file.read(None)\n",
    "\n",
    "\n",
    "data = readFile('./data')\n",
    "zdata = zlib.compress(data)\n",
    "\n",
    "data_bus = Activity.toParallelBus(data, 8)\n",
    "zdata_bus = Activity.toParallelBus(zdata, 8)\n",
    "\n",
    "data_tot = 0\n",
    "for bus in data_bus:\n",
    "    data_tot += Activity.calcTotal(bus)\n",
    "\n",
    "zdata_tot = 0\n",
    "for bus in zdata_bus:\n",
    "    zdata_tot += Activity.calcTotal(bus)\n",
    "\n",
    "data_bi = BI.calcTotal(data_bus)\n",
    "zdata_bi = BI.calcTotal(zdata_bus)\n",
    "\n",
    "print(\"Total Bit Flips :\")\n",
    "print('RawData + Normal BUS(8) : ' , (data_tot / data_tot - 1) * 100, '%')\n",
    "print('RawData + BUS(8) Inverting : ' ,  (data_tot / data_bi - 1) * 100, '%')\n",
    "print('Compressed + Normal BUS(8) : ' , (data_tot / zdata_tot - 1) * 100, '%')\n",
    "print('Compressed + BUS(8) Inverting : ' , (data_tot / zdata_bi - 1) * 100, '%')"
   ]
  },
  {
   "cell_type": "markdown",
   "metadata": {},
   "source": [
    "<div dir='rtl'>\n",
    "\n",
    "# نتایج آزمون\n",
    "همانطور که مشاهده میکنید، حالت بهینه با اختلاف زیاد استفاده از\n",
    "هر دو روش است و در این مثال خاص ۲۸۰ درصد بهبود داشته است.\n",
    "در نتیجه دو روش بر یکدیگر عمود هستند و به شکل مستقل بهبود ایجاد میکنند.\n",
    "</div>"
   ]
  }
 ],
 "metadata": {
  "kernelspec": {
   "display_name": "Python 3",
   "language": "python",
   "name": "python3"
  },
  "language_info": {
   "codemirror_mode": {
    "name": "ipython",
    "version": 3
   },
   "file_extension": ".py",
   "mimetype": "text/x-python",
   "name": "python",
   "nbconvert_exporter": "python",
   "pygments_lexer": "ipython3",
   "version": "3.13.2"
  }
 },
 "nbformat": 4,
 "nbformat_minor": 2
}
